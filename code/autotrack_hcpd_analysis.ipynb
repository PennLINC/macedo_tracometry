{
 "cells": [
  {
   "cell_type": "code",
   "execution_count": 25,
   "id": "6c929668",
   "metadata": {},
   "outputs": [],
   "source": [
    "import pandas as pd\n",
    "from pathlib import Path"
   ]
  },
  {
   "cell_type": "markdown",
   "id": "831e4b14",
   "metadata": {},
   "source": [
    "We have a folder of csv files. Each csv file corresponds to one autotrack metric. Within each file, the rows correspond to patients and the columns correspond to bundles. \n",
    "\n",
    "We combine all of these dataframes into one dataframe with four columns: sub (patient), bundle, metric (which autotrack metric), score (score of this metric from autotrack)"
   ]
  },
  {
   "cell_type": "code",
   "execution_count": 26,
   "id": "fd8e19dd",
   "metadata": {},
   "outputs": [],
   "source": [
    "path = '../../hcpd_selection_and_completeness/outputs/metrics'\n",
    "source_files = sorted(Path(path).glob('*.csv'))\n",
    "\n",
    "dfs = []\n",
    "for file in source_files:\n",
    "    df = pd.read_csv(file)\n",
    "    df = pd.melt(df, [\"sub\"],\n",
    "                       var_name=\"bundle\", value_name=\"score\")\n",
    "    df['metric'] = file.name[:-4]\n",
    "    dfs.append(df)"
   ]
  },
  {
   "cell_type": "code",
   "execution_count": 27,
   "id": "cf1fca2a",
   "metadata": {},
   "outputs": [],
   "source": [
    "metrics = pd.concat(dfs)"
   ]
  },
  {
   "cell_type": "code",
   "execution_count": 31,
   "id": "d98f15cb",
   "metadata": {},
   "outputs": [
    {
     "data": {
      "text/html": [
       "<div>\n",
       "<style scoped>\n",
       "    .dataframe tbody tr th:only-of-type {\n",
       "        vertical-align: middle;\n",
       "    }\n",
       "\n",
       "    .dataframe tbody tr th {\n",
       "        vertical-align: top;\n",
       "    }\n",
       "\n",
       "    .dataframe thead th {\n",
       "        text-align: right;\n",
       "    }\n",
       "</style>\n",
       "<table border=\"1\" class=\"dataframe\">\n",
       "  <thead>\n",
       "    <tr style=\"text-align: right;\">\n",
       "      <th></th>\n",
       "      <th>sub</th>\n",
       "      <th>bundle</th>\n",
       "      <th>score</th>\n",
       "      <th>metric</th>\n",
       "    </tr>\n",
       "  </thead>\n",
       "  <tbody>\n",
       "  </tbody>\n",
       "</table>\n",
       "</div>"
      ],
      "text/plain": [
       "Empty DataFrame\n",
       "Columns: [sub, bundle, score, metric]\n",
       "Index: []"
      ]
     },
     "execution_count": 31,
     "metadata": {},
     "output_type": "execute_result"
    }
   ],
   "source": [
    "metrics.head(0)"
   ]
  },
  {
   "cell_type": "markdown",
   "id": "82b67699",
   "metadata": {},
   "source": []
  },
  {
   "cell_type": "code",
   "execution_count": null,
   "id": "9109645f",
   "metadata": {},
   "outputs": [],
   "source": []
  }
 ],
 "metadata": {
  "kernelspec": {
   "display_name": "Python 3 (ipykernel)",
   "language": "python",
   "name": "python3"
  },
  "language_info": {
   "codemirror_mode": {
    "name": "ipython",
    "version": 3
   },
   "file_extension": ".py",
   "mimetype": "text/x-python",
   "name": "python",
   "nbconvert_exporter": "python",
   "pygments_lexer": "ipython3",
   "version": "3.11.4"
  }
 },
 "nbformat": 4,
 "nbformat_minor": 5
}

{
 "cells": [
  {
   "cell_type": "code",
   "execution_count": 1,
   "id": "d521f3eb",
   "metadata": {},
   "outputs": [],
   "source": [
    "import pandas as pd\n",
    "from pathlib import Path"
   ]
  },
  {
   "cell_type": "markdown",
   "id": "df284419",
   "metadata": {},
   "source": [
    "Each csv file corresponds to one autotrack metric. Within each file, the rows correspond to patients and the columns correspond to bundles. We combine all of these dataframes into one dataframe with four columns: sub (patient), bundle, metric (which autotrack metric), score (autotrack score of this metric)"
   ]
  },
  {
   "cell_type": "code",
   "execution_count": 2,
   "id": "5c2d592d",
   "metadata": {},
   "outputs": [],
   "source": [
    "datapath = \"../../hcpd_selection_and_completeness/\"\n",
    "path = datapath + 'outputs/metrics'\n",
    "source_files = sorted(Path(path).glob('*.csv'))\n",
    "\n",
    "dfs = []\n",
    "for file in source_files:\n",
    "    df = pd.read_csv(file)\n",
    "    df = pd.melt(df, [\"sub\"],\n",
    "                       var_name=\"bundle\", value_name=\"score\")\n",
    "    df['metric'] = file.name[:-4]\n",
    "    dfs.append(df)\n",
    "metrics = pd.concat(dfs)"
   ]
  },
  {
   "cell_type": "markdown",
   "id": "e3ff3960",
   "metadata": {},
   "source": [
    "### Add demographics "
   ]
  },
  {
   "cell_type": "code",
   "execution_count": 3,
   "id": "60fb9ef0",
   "metadata": {},
   "outputs": [],
   "source": [
    "dems = pd.read_csv(datapath + \"data/hcpd_input_demos.csv\", low_memory=False) # includes sex, age, site"
   ]
  },
  {
   "cell_type": "code",
   "execution_count": 4,
   "id": "b1fde805",
   "metadata": {},
   "outputs": [],
   "source": [
    "dems[\"sub\"] = [\"sub-\" + s_id[3:] for s_id in dems[\"src_subject_id\"]]"
   ]
  },
  {
   "cell_type": "code",
   "execution_count": 5,
   "id": "4870c20c",
   "metadata": {},
   "outputs": [],
   "source": [
    "def add_dems(dem, dems_df=dems, df=metrics):\n",
    "    sid_to_dem = dict(zip(dems_df[\"sub\"], dems_df[dem]))\n",
    "    df[dem] = [sid_to_dem[sid] for sid in df[\"sub\"]]"
   ]
  },
  {
   "cell_type": "code",
   "execution_count": 6,
   "id": "bd09d6d8",
   "metadata": {},
   "outputs": [
    {
     "data": {
      "text/html": [
       "<div>\n",
       "<style scoped>\n",
       "    .dataframe tbody tr th:only-of-type {\n",
       "        vertical-align: middle;\n",
       "    }\n",
       "\n",
       "    .dataframe tbody tr th {\n",
       "        vertical-align: top;\n",
       "    }\n",
       "\n",
       "    .dataframe thead th {\n",
       "        text-align: right;\n",
       "    }\n",
       "</style>\n",
       "<table border=\"1\" class=\"dataframe\">\n",
       "  <thead>\n",
       "    <tr style=\"text-align: right;\">\n",
       "      <th></th>\n",
       "      <th>sub</th>\n",
       "      <th>bundle</th>\n",
       "      <th>score</th>\n",
       "      <th>metric</th>\n",
       "      <th>site</th>\n",
       "      <th>sex</th>\n",
       "      <th>interview_age</th>\n",
       "    </tr>\n",
       "  </thead>\n",
       "  <tbody>\n",
       "  </tbody>\n",
       "</table>\n",
       "</div>"
      ],
      "text/plain": [
       "Empty DataFrame\n",
       "Columns: [sub, bundle, score, metric, site, sex, interview_age]\n",
       "Index: []"
      ]
     },
     "execution_count": 6,
     "metadata": {},
     "output_type": "execute_result"
    }
   ],
   "source": [
    "add_dems(\"site\")\n",
    "add_dems(\"sex\")\n",
    "add_dems(\"interview_age\")\n",
    "metrics.head(0)"
   ]
  },
  {
   "cell_type": "code",
   "execution_count": 7,
   "id": "6c4d2280",
   "metadata": {},
   "outputs": [],
   "source": [
    "# making categorical values into numerical values so that their correlation can be assessed\n",
    "metrics[\"sex\"].replace([\"M\", \"F\"], [0, 1], inplace = True)\n",
    "metrics[\"site\"].replace([\"WashU\", \"UCLA\", \"Harvard\", \"UMinn\"], [0, 1, 2, 3], inplace=True)"
   ]
  },
  {
   "cell_type": "code",
   "execution_count": 8,
   "id": "07cdeea7",
   "metadata": {},
   "outputs": [],
   "source": [
    "metrics[\"brain_half\"] = [tract[-1] == \"L\" for tract in metrics[\"bundle\"]] # L = 1, R = 0 "
   ]
  },
  {
   "cell_type": "code",
   "execution_count": 10,
   "id": "f373d531",
   "metadata": {},
   "outputs": [],
   "source": [
    "metrics[\"tract_raw\"] = [tract[:-1] for tract in metrics[\"bundle\"]] # which tract, regardless of L vs R"
   ]
  },
  {
   "cell_type": "code",
   "execution_count": 11,
   "id": "ea2480f4",
   "metadata": {},
   "outputs": [],
   "source": [
    "metrics.to_csv(\"../../outputs/metrics_df.csv\")"
   ]
  }
 ],
 "metadata": {
  "kernelspec": {
   "display_name": "Python 3 (ipykernel)",
   "language": "python",
   "name": "python3"
  },
  "language_info": {
   "codemirror_mode": {
    "name": "i